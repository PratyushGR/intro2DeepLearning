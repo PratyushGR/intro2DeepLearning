{
  "cells": [
    {
      "cell_type": "code",
      "execution_count": 2,
      "metadata": {
        "id": "0gFJNxnhpZoc"
      },
      "outputs": [],
      "source": [
        "import random\n",
        "import numpy as np\n",
        "from data_process import get_CIFAR10_data\n",
        "%matplotlib inline\n",
        "from save_submission import output_submission_csv"
      ]
    },
    {
      "cell_type": "markdown",
      "metadata": {
        "id": "NFpMITkVpZof"
      },
      "source": [
        "# Loading CIFAR-10"
      ]
    },
    {
      "cell_type": "markdown",
      "metadata": {
        "id": "KQhLz6_ypZoh"
      },
      "source": [
        "In the following cells we determine the number of images for each split and load the images.\n",
        "<br /> \n",
        "TRAIN_IMAGES + VAL_IMAGES = (0, 50000]\n",
        ", TEST_IMAGES = 10000"
      ]
    },
    {
      "cell_type": "code",
      "execution_count": 3,
      "metadata": {
        "id": "EdJkhInTpZoh"
      },
      "outputs": [],
      "source": [
        "# You can change these numbers for experimentation\n",
        "# For submission we will use the default values \n",
        "TRAIN_IMAGES = 40000\n",
        "VAL_IMAGES = 10000"
      ]
    },
    {
      "cell_type": "code",
      "execution_count": 4,
      "metadata": {
        "id": "lYxkvXIrpZoi"
      },
      "outputs": [],
      "source": [
        "data = get_CIFAR10_data(TRAIN_IMAGES, VAL_IMAGES)\n",
        "X_train_CIFAR, y_train_CIFAR = data['X_train'], data['y_train']\n",
        "X_val_CIFAR, y_val_CIFAR = data['X_val'], data['y_val']\n",
        "X_test_CIFAR, y_test_CIFAR = data['X_test'], data['y_test']\n",
        "n_class_CIFAR = len(np.unique(y_test_CIFAR))"
      ]
    },
    {
      "cell_type": "markdown",
      "metadata": {
        "id": "8paIOoaBpZoi"
      },
      "source": [
        "Convert the sets of images from dimensions of **(N, 3, 32, 32) -> (N, 3072)** where N is the number of images so that each **3x32x32** image is represented by a single vector."
      ]
    },
    {
      "cell_type": "code",
      "execution_count": 5,
      "metadata": {
        "id": "hsgufbOhpZoj"
      },
      "outputs": [],
      "source": [
        "X_train_CIFAR = np.reshape(X_train_CIFAR, (X_train_CIFAR.shape[0], -1))\n",
        "X_val_CIFAR = np.reshape(X_val_CIFAR, (X_val_CIFAR.shape[0], -1))\n",
        "X_test_CIFAR = np.reshape(X_test_CIFAR, (X_test_CIFAR.shape[0], -1))"
      ]
    },
    {
      "cell_type": "markdown",
      "metadata": {
        "id": "r91wHO51pZoj"
      },
      "source": [
        "# Get Accuracy\n",
        "This function computes how well your model performs using accuracy as a metric.\n"
      ]
    },
    {
      "cell_type": "code",
      "execution_count": 6,
      "metadata": {
        "id": "qDRrRQAlpZok"
      },
      "outputs": [],
      "source": [
        "def get_acc(pred, y_test):\n",
        "    return np.sum(y_test==pred)/len(y_test)*100"
      ]
    },
    {
      "cell_type": "markdown",
      "metadata": {
        "id": "FjEyGAXrpZol"
      },
      "source": [
        "# Perceptron"
      ]
    },
    {
      "cell_type": "markdown",
      "metadata": {
        "id": "2i4BlNEwpZol"
      },
      "source": [
        "Perceptron has 2 hyperparameters that you can experiment with:\n",
        "- **Learning rate** - controls how much we change the current weights of the classifier during each update. We set it at a default value of 0.5, but you should experiment with different values. We recommend changing the learning rate by factors of 10 and observing how the performance of the classifier changes. You should also try adding a **decay** which slowly reduces the learning rate over each epoch.\n",
        "- **Number of Epochs** - An epoch is a complete iterative pass over all of the data in the dataset. During an epoch we predict a label using the classifier and then update the weights of the classifier according the perceptron update rule for each sample in the training set. You should try different values for the number of training epochs and report your results."
      ]
    },
    {
      "cell_type": "markdown",
      "metadata": {
        "id": "MCB44zoIpZom"
      },
      "source": [
        "\n",
        "The following code: \n",
        "- Creates an instance of the Perceptron classifier class \n",
        "- The train function of the Perceptron class is trained on the training data\n",
        "- We use the predict function to find the training accuracy as well as the testing accuracy\n"
      ]
    },
    {
      "cell_type": "markdown",
      "metadata": {
        "id": "0pQMfcXvpZom"
      },
      "source": [
        "# Model Perceptron"
      ]
    },
    {
      "cell_type": "code",
      "execution_count": 7,
      "metadata": {
        "id": "xHFooAwLpZom"
      },
      "outputs": [],
      "source": [
        "import numpy as np\n",
        "\n",
        "\n",
        "class Perceptron:\n",
        "    def __init__(self, n_class: int, lr: float, epochs: int):\n",
        "        \"\"\"Initialize a new classifier.\n",
        "        Parameters:\n",
        "            n_class: the number of classes\n",
        "            lr: the learning rate\n",
        "            epochs: the number of epochs to train for\n",
        "        \"\"\"\n",
        "        self.w = None\n",
        "        self.lr = lr\n",
        "        self.epochs = epochs\n",
        "        self.n_class = n_class\n",
        "        self.bias=None\n",
        "        self.activation_func=self._unit_step_func\n",
        "\n",
        "\n",
        "    def train(self, X_train: np.ndarray, y_train: np.ndarray):\n",
        "        \"\"\"Train the classifier.\n",
        "        Use the perceptron update rule as introduced in Lecture 3.\n",
        "        Parameters:\n",
        "            X_train: a number array of shape (N, D) containing training data;\n",
        "                N examples with D dimensions\n",
        "            y_train: a numpy array of shape (N,) containing training labels\n",
        "        \"\"\"\n",
        "        N, D = X_train.shape\n",
        "        self.w = np.zeros((D+1,))\n",
        " \n",
        "        X_train = np.concatenate([X_train, np.ones((N, 1))], axis=1)\n",
        "        \n",
        "        for i in range(self.epochs):\n",
        "            for j in range(N):\n",
        "                if y_train[j]*np.dot(self.w, X_train[j, :]) <= 0:\n",
        "                    self.w += y_train[j]*X_train[j, :]\n",
        "\n",
        "         \n",
        "         \n",
        "\n",
        "    def predict(self, X_test: np.ndarray) -> np.ndarray:\n",
        "        \"\"\"Use the trained weights to predict labels for test data points.\n",
        "        Parameters:\n",
        "            X_test: a numpy array of shape (N, D) containing testing data;\n",
        "                N examples with D dimensions\n",
        "        Returns:\n",
        "            predicted labels for the data in X_test; a 1-dimensional array of\n",
        "                length N, where each element is an integer giving the predicted\n",
        "                class.\n",
        "        \"\"\"\n",
        "       \n",
        "\n",
        "        if not hasattr(self, 'w'):\n",
        "             print('The model is not trained yet!')\n",
        "             return\n",
        "\n",
        "        n_samples = X_test.shape[0]\n",
        "         # Add column of 1s\n",
        "        X_test = np.concatenate([X_test, np.ones((n_samples, 1))], axis=1)\n",
        "        y_test = np.matmul(X_test, self.w)\n",
        "        y_test = np.vectorize(lambda val: 1 if val > 0 else -1)(y_test)\n",
        "\n",
        "        return y_test\n",
        "\n",
        "\n",
        "       \n",
        "\n",
        "\n",
        "    def _unit_step_func(self, x):\n",
        "        return np.where(x>=0, 1, 0)"
      ]
    },
    {
      "cell_type": "markdown",
      "metadata": {
        "id": "Tjc80ISp_bYK"
      },
      "source": []
    },
    {
      "cell_type": "code",
      "execution_count": 8,
      "metadata": {
        "id": "7DG8rY9ApZon"
      },
      "outputs": [],
      "source": [
        "lr = 0.5\n",
        "n_epochs = 50\n",
        "n_class_CIFAR = 1\n",
        "\n",
        "percept_CIFAR = Perceptron(n_class_CIFAR, lr, n_epochs)\n",
        "percept_CIFAR.train(X_train_CIFAR, y_train_CIFAR)"
      ]
    },
    {
      "cell_type": "markdown",
      "metadata": {
        "id": "_14_VVHhpZon"
      },
      "source": [
        "## Train Perceptron on CIFAR"
      ]
    },
    {
      "cell_type": "code",
      "execution_count": 9,
      "metadata": {
        "colab": {
          "base_uri": "https://localhost:8080/"
        },
        "id": "3A_8NAEJpZon",
        "outputId": "adb3934d-fd46-43e8-819f-a4a1df73dafb"
      },
      "outputs": [
        {
          "name": "stdout",
          "output_type": "stream",
          "text": [
            "The training accuracy is given by: 4.657500\n"
          ]
        }
      ],
      "source": [
        "pred_percept = percept_CIFAR.predict(X_train_CIFAR)\n",
        "print('The training accuracy is given by: %f' % (get_acc(pred_percept, y_train_CIFAR)))"
      ]
    },
    {
      "cell_type": "markdown",
      "metadata": {
        "id": "JPoG32Y0pZon"
      },
      "source": [
        "### Validate Perceptron on CIFAR"
      ]
    },
    {
      "cell_type": "code",
      "execution_count": 10,
      "metadata": {
        "colab": {
          "base_uri": "https://localhost:8080/"
        },
        "id": "INpI-9fVpZon",
        "outputId": "756d4a3b-72fc-4c73-8efd-b5b4427670a2"
      },
      "outputs": [
        {
          "name": "stdout",
          "output_type": "stream",
          "text": [
            "The validation accuracy is given by: 5.010000\n"
          ]
        }
      ],
      "source": [
        "pred_percept = percept_CIFAR.predict(X_val_CIFAR)\n",
        "print('The validation accuracy is given by: %f' % (get_acc(pred_percept, y_val_CIFAR)))"
      ]
    },
    {
      "cell_type": "markdown",
      "metadata": {
        "id": "LitUu8g0pZoo"
      },
      "source": [
        "### Test Perceptron on CIFAR"
      ]
    },
    {
      "cell_type": "code",
      "execution_count": 11,
      "metadata": {
        "colab": {
          "base_uri": "https://localhost:8080/"
        },
        "id": "CLB5yeeTpZoo",
        "outputId": "0706d555-9de7-4bba-b14f-c61858884ba8"
      },
      "outputs": [
        {
          "name": "stdout",
          "output_type": "stream",
          "text": [
            "The testing accuracy is given by: 4.980000\n"
          ]
        }
      ],
      "source": [
        "pred_percept = percept_CIFAR.predict(X_test_CIFAR)\n",
        "print('The testing accuracy is given by: %f' % (get_acc(pred_percept, y_test_CIFAR)))"
      ]
    },
    {
      "cell_type": "code",
      "execution_count": 12,
      "metadata": {
        "id": "c1OHdRVepZoo"
      },
      "outputs": [],
      "source": [
        "output_submission_csv('output/Logistic_submission_CIFAR.csv', percept_CIFAR.predict(X_test_CIFAR))"
      ]
    },
    {
      "cell_type": "markdown",
      "metadata": {
        "id": "_m0DUX0FpZoo"
      },
      "source": [
        "# Logistic Classifier"
      ]
    },
    {
      "cell_type": "markdown",
      "metadata": {
        "id": "t4y4gKDvpZop"
      },
      "source": [
        "The Logistic Classifier has 2 hyperparameters that you can experiment with:\n",
        "- **Learning rate** - similar to as defined above in Perceptron, this parameter scales by how much the weights are changed according to the calculated gradient update. \n",
        "- **Number of Epochs** - As described for perceptron.\n",
        "\n"
      ]
    },
    {
      "cell_type": "markdown",
      "metadata": {
        "id": "aeyJ7sYNpZop"
      },
      "source": [
        "\n",
        "The following code: \n",
        "- Creates an instance of the Logistic classifier class \n",
        "- The train function of the Logistic class is trained on the training data\n",
        "- We use the predict function to find the training accuracy as well as the testing accuracy"
      ]
    },
    {
      "cell_type": "code",
      "execution_count": 13,
      "metadata": {
        "id": "7ytp9mU2pZop"
      },
      "outputs": [],
      "source": [
        "\"\"\"Logistic regression model.\"\"\"\n",
        "\n",
        "import numpy as np\n",
        "from numpy import log, dot\n",
        "import math\n",
        "\n",
        "\n",
        "class Logistic:\n",
        "    def __init__(self, lr: float, epochs: int):\n",
        "        \"\"\"Initialize a new classifier.\n",
        "        Parameters:\n",
        "            lr: the learning rate\n",
        "            epochs: the number of epochs to train for\n",
        "        \"\"\"\n",
        "        self.w = 1\n",
        "        self.lr = lr\n",
        "        self.epochs = epochs\n",
        "        self.threshold = 0.5\n",
        "\n",
        "    def sigmoid(self, z: np.ndarray) -> np.ndarray:\n",
        "        \"\"\"Sigmoid function.\n",
        "        Parameters:\n",
        "            z: the input\n",
        "        Returns:\n",
        "            the sigmoid of the input\n",
        "        \"\"\"\n",
        "        ##### YOUR CODE STARTS HERE #####\n",
        "        ret = 1/(1+np.exp(-z))\n",
        "        \n",
        "        ##### YOUR CODE ENDS HERE #####\n",
        "        return ret\n",
        "\n",
        "    def cost_function(self, X, y, weights):\n",
        "        z=dot(X, weights)\n",
        "        predict_1 = y * log(self.sigmoid(z))\n",
        "        predict_0 = (1-y)* log(1-self.sigmoid(z))\n",
        "        return -sum(predict_1 + predict_0)/ len(X)\n",
        "\n",
        "    def train(self, X_train: np.ndarray, y_train: np.ndarray):\n",
        "        \"\"\"Train the classifier.\n",
        "        Use the logistic regression update rule as introduced in lecture.\n",
        "        Parameters:\n",
        "            X_train: a numpy array of shape (N, D) containing training data;\n",
        "                N examples with D dimensions\n",
        "            y_train: a numpy array of shape (N,) containing training labels\n",
        "        \"\"\"\n",
        "        N, D = X_train.shape\n",
        "        loss=[]\n",
        "        w=np.random.randn(X_train.shape[1])\n",
        "        #self.w = np.random.randn(1, D)\n",
        "        N=len(X_train)\n",
        "\n",
        "        ##### YOUR CODE STARTS HERE #####\n",
        "        \n",
        "        for i in range(self.epochs):\n",
        "            y_hat=self.sigmoid(dot(X_train, w))\n",
        "            w-=self.lr*dot(X_train.T, y_hat-y_train)/N\n",
        "            loss.append(self.cost_function(X_train, y_train, w))\n",
        "\n",
        "        self.w=w\n",
        "        self.loss=loss\n",
        "            \n",
        "        ##### YOUR CODE ENDS HERE #####\n",
        "        pass\n",
        "\n",
        "    def predict(self, X_test: np.ndarray) -> np.ndarray:\n",
        "        \"\"\"Use the trained weights to predict labels for test data points.\n",
        "        Parameters:\n",
        "            X_test: a numpy array of shape (N, D) containing testing data;\n",
        "                N examples with D dimensions\n",
        "        Returns:\n",
        "            predicted labels for the data in X_test; a 1-dimensional array of\n",
        "                length N, where each element is an integer giving the predicted\n",
        "                class.\n",
        "        \"\"\"\n",
        "        N, D = X_test.shape\n",
        "        y_test = np.zeros(N)\n",
        "        ##### YOUR CODE STARTS HERE #####\n",
        "        z=dot(X_test, self.w)\n",
        "        y_test=[1 if i >0.7 else 0 for i in self.sigmoid(z)]\n",
        "        ##### YOUR CODE ENDS HERE #####\n",
        "        return y_test"
      ]
    },
    {
      "cell_type": "markdown",
      "metadata": {
        "id": "9d2rj1rDpZoq"
      },
      "source": [
        "### Training Logistic Classifer"
      ]
    },
    {
      "cell_type": "code",
      "execution_count": 14,
      "metadata": {
        "colab": {
          "base_uri": "https://localhost:8080/"
        },
        "id": "50i_5rtTpZoq",
        "outputId": "f7026403-ac1d-4e40-d063-e5f8e35580d6"
      },
      "outputs": [
        {
          "name": "stderr",
          "output_type": "stream",
          "text": [
            "/usr/local/lib/python3.7/dist-packages/ipykernel_launcher.py:28: RuntimeWarning: overflow encountered in exp\n",
            "/usr/local/lib/python3.7/dist-packages/ipykernel_launcher.py:35: RuntimeWarning: divide by zero encountered in log\n",
            "/usr/local/lib/python3.7/dist-packages/ipykernel_launcher.py:35: RuntimeWarning: invalid value encountered in multiply\n",
            "/usr/local/lib/python3.7/dist-packages/ipykernel_launcher.py:36: RuntimeWarning: divide by zero encountered in log\n",
            "/usr/local/lib/python3.7/dist-packages/ipykernel_launcher.py:36: RuntimeWarning: invalid value encountered in multiply\n",
            "/usr/local/lib/python3.7/dist-packages/ipykernel_launcher.py:37: RuntimeWarning: invalid value encountered in double_scalars\n"
          ]
        }
      ],
      "source": [
        "learning_rate =0.6\n",
        "n_epochs =50\n",
        "\n",
        "lr = Logistic(learning_rate, n_epochs)\n",
        "lr.train(X_train_CIFAR, y_train_CIFAR)"
      ]
    },
    {
      "cell_type": "code",
      "execution_count": 15,
      "metadata": {
        "colab": {
          "base_uri": "https://localhost:8080/"
        },
        "id": "W1lLs2WDpZoq",
        "outputId": "73dc017a-5aae-4143-8f1b-db670063a701"
      },
      "outputs": [
        {
          "name": "stdout",
          "output_type": "stream",
          "text": [
            "The training accuracy is given by: 12.142500\n"
          ]
        },
        {
          "name": "stderr",
          "output_type": "stream",
          "text": [
            "/usr/local/lib/python3.7/dist-packages/ipykernel_launcher.py:28: RuntimeWarning: overflow encountered in exp\n"
          ]
        }
      ],
      "source": [
        "pred_lr = lr.predict(X_train_CIFAR)\n",
        "print('The training accuracy is given by: %f' % (get_acc(pred_lr, y_train_CIFAR)))"
      ]
    },
    {
      "cell_type": "markdown",
      "metadata": {
        "id": "pUausyFqpZoq"
      },
      "source": [
        "### Validate Logistic Classifer"
      ]
    },
    {
      "cell_type": "code",
      "execution_count": 16,
      "metadata": {
        "colab": {
          "base_uri": "https://localhost:8080/"
        },
        "id": "IRdo75_FpZoq",
        "outputId": "d2bf12c5-8c36-475d-9ae6-15f9fc8f79a5"
      },
      "outputs": [
        {
          "name": "stdout",
          "output_type": "stream",
          "text": [
            "The validation accuracy is given by: 12.170000\n"
          ]
        },
        {
          "name": "stderr",
          "output_type": "stream",
          "text": [
            "/usr/local/lib/python3.7/dist-packages/ipykernel_launcher.py:28: RuntimeWarning: overflow encountered in exp\n"
          ]
        }
      ],
      "source": [
        "pred_lr = lr.predict(X_val_CIFAR)\n",
        "print('The validation accuracy is given by: %f' % (get_acc(pred_lr, y_val_CIFAR)))"
      ]
    },
    {
      "cell_type": "markdown",
      "metadata": {
        "id": "YWgfQuZypZoq"
      },
      "source": [
        "### Test Logistic Classifier"
      ]
    },
    {
      "cell_type": "code",
      "execution_count": 17,
      "metadata": {
        "colab": {
          "base_uri": "https://localhost:8080/"
        },
        "id": "OiCWJRAypZor",
        "outputId": "8cb0c156-0c8d-46ba-d83e-ca086e6ef852"
      },
      "outputs": [
        {
          "name": "stdout",
          "output_type": "stream",
          "text": [
            "The testing accuracy is given by: 12.430000\n"
          ]
        },
        {
          "name": "stderr",
          "output_type": "stream",
          "text": [
            "/usr/local/lib/python3.7/dist-packages/ipykernel_launcher.py:28: RuntimeWarning: overflow encountered in exp\n"
          ]
        }
      ],
      "source": [
        "pred_lr = lr.predict(X_test_CIFAR)\n",
        "print('The testing accuracy is given by: %f' % (get_acc(pred_lr, y_test_CIFAR)))\n",
        "output_submission_csv('output/Logistic_submission_CIFAR.csv', lr.predict(X_test_CIFAR))"
      ]
    }
  ],
  "metadata": {
    "colab": {
      "collapsed_sections": [],
      "name": "code_assignment (3).ipynb",
      "provenance": []
    },
    "kernelspec": {
      "display_name": "Python 3",
      "language": "python",
      "name": "python3"
    },
    "language_info": {
      "codemirror_mode": {
        "name": "ipython",
        "version": 3
      },
      "file_extension": ".py",
      "mimetype": "text/x-python",
      "name": "python",
      "nbconvert_exporter": "python",
      "pygments_lexer": "ipython3",
      "version": "3.9.6"
    }
  },
  "nbformat": 4,
  "nbformat_minor": 0
}
